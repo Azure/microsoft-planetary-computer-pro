{
 "cells": [
  {
   "cell_type": "markdown",
   "id": "890c12f2",
   "metadata": {},
   "source": [
    "# Tutorial: Using the Microsoft Planetary Computer Pro APIs to ingest and visualize data\n",
    "\n",
    "STAC (SpatioTemporal Asset Catalog) Collections are used within a GeoCatalog to index and store related spatiotemporal assets. In this end-to-end tutorial, you'll create a new STAC collection, ingest Sentinel-2 images into the collection, and query those images via GeoCatalog's APIs.\n",
    "\n",
    "In this tutorial, you:\n",
    "* Will create your very own STAC collection within a Planetary Computer Pro GeoCatalog\n",
    "* Ingest satellite imagery into that collection from the European Space Agency\n",
    "* Configure the collection so the imagery in the collection can be visualized in the Planetary Computer Pro's web interface\n",
    "* Query data from within the STAC collection using the Planetary Computer Pro's STAC API\n",
    "\n",
    "## Prerequisites\n",
    "\n",
    "Before running this tutorial, you need a Planetary Computer Pro GeoCatalog deployed in your Azure subscription. You also need an environment to execute this notebook and install the necessary packages. We suggest running this tutorial through an Azure Machine Learning Virtual Machine or Visual Studio Code's notebook integration in a Python virtual environment. However, this notebook should run wherever you can run Jupyter notebooks, provided the following requirements are met:\n",
    "\n",
    "* Python 3.10 or later\n",
    "* Azure CLI is installed, and you have run az login to log into your Azure account\n",
    "* The necessary requirements listed in the Tutorial Options section are installed\n",
    "\n",
    "## Open a Jupyter notebook in Azure Machine Learning or VS Code\n",
    "\n",
    "### Log in to Azure with the Azure CLI\n",
    "The following command logs you into Azure using the Azure CLI. Run the command and follow the instructions to log in."
   ]
  },
  {
   "cell_type": "code",
   "execution_count": null,
   "id": "81c354a2",
   "metadata": {},
   "outputs": [],
   "source": [
    "!az login"
   ]
  },
  {
   "cell_type": "markdown",
   "id": "6730d807",
   "metadata": {},
   "source": [
    "## Select tutorial options\n",
    "\n",
    "Before running this tutorial, you need contributor access to an existing GeoCatalog instance. Enter the url of your GeoCatalog instance in the geocatalog_url variable. In this tutorial, you'll create a collection for Sentinel-2 imagery provided by the European Space Agency (ESA) that is currently stored in Microsoft's Planetary Computer Data Catalog.\n"
   ]
  },
  {
   "cell_type": "code",
   "execution_count": null,
   "id": "149057ed",
   "metadata": {},
   "outputs": [],
   "source": [
    "# URL for your given GeoCatalog\n",
    "geocatalog_url = (\n",
    "    \"<GEOCATALOG_URL>\"\n",
    ")\n",
    "geocatalog_url = geocatalog_url.rstrip(\"/\")  # Remove trailing slash if present\n",
    "\n",
    "api_version = \"2025-04-30-preview\"\n",
    "\n",
    "# User selections for demo\n",
    "\n",
    "# Collection within the Planetary Computer\n",
    "pc_collection = \"sentinel-2-l2a\"\n",
    "\n",
    "# Bounding box for AOI\n",
    "bbox_aoi = [-22.455626, 63.834083, -22.395201, 63.880750]\n",
    "\n",
    "# Date range to search for imagery\n",
    "param_date_range = \"2024-02-04/2024-02-11\"\n",
    "\n",
    "# Maximum number of items to ingest\n",
    "param_max_items = 6"
   ]
  },
  {
   "cell_type": "markdown",
   "id": "d6e17578",
   "metadata": {},
   "source": [
    "### Import the required packages\n",
    "\n",
    "Before you can create a STAC collection you need to import a few python packages and define helper functions to retrieve the required access token."
   ]
  },
  {
   "cell_type": "code",
   "execution_count": null,
   "id": "b89c90d2",
   "metadata": {},
   "outputs": [],
   "source": [
    "!pip install pystac-client azure-identity requests pillow"
   ]
  },
  {
   "cell_type": "code",
   "execution_count": null,
   "id": "20e82c84",
   "metadata": {
    "lines_to_next_cell": 0
   },
   "outputs": [],
   "source": [
    "# Import the required packages\n",
    "import json\n",
    "import random\n",
    "import string\n",
    "import time\n",
    "from datetime import datetime, timedelta, timezone\n",
    "from io import BytesIO\n",
    "from typing import Any, Optional, Dict\n",
    "\n",
    "import requests\n",
    "from azure.identity import AzureCliCredential\n",
    "from IPython.display import Markdown as md\n",
    "from IPython.display import clear_output\n",
    "from PIL import Image\n",
    "from pystac_client import Client\n",
    "\n",
    "# Function to get a bearer token for the  Planetary Computer Pro API\n",
    "MPC_APP_ID = \"https://geocatalog.spatio.azure.com\"\n",
    "\n",
    "_access_token = None\n",
    "def getBearerToken():\n",
    "    global _access_token\n",
    "    if not _access_token or datetime.fromtimestamp(_access_token.expires_on) < datetime.now() + timedelta(minutes=5):\n",
    "        credential = AzureCliCredential()\n",
    "        _access_token = credential.get_token(f\"{MPC_APP_ID}/.default\")\n",
    "\n",
    "    return {\"Authorization\": f\"Bearer {_access_token.token}\"}\n",
    "\n",
    "# Method to print error messages when checking response status\n",
    "def raise_for_status(r: requests.Response) -> None:\n",
    "    try:\n",
    "        r.raise_for_status()\n",
    "    except requests.exceptions.HTTPError as e:\n",
    "        try:\n",
    "            print(json.dumps(r.json(), indent=2))\n",
    "        except:\n",
    "            print(r.content)\n",
    "        finally:\n",
    "            raise"
   ]
  },
  {
   "cell_type": "markdown",
   "id": "86688a5a",
   "metadata": {},
   "source": [
    "## Create a STAC collection\n",
    "\n",
    "### Define a STAC Collection JSON\n",
    "Next, you define a STAC collection as a JSON item.  For this tutorial, use an existing STAC collection JSON for the Sentinel-2-l2a collection within Microsoft's Planetary Computer. Your collection is assigned a random ID and title so as not to conflict with other existing collections.\n"
   ]
  },
  {
   "cell_type": "code",
   "execution_count": null,
   "id": "74a71555",
   "metadata": {},
   "outputs": [],
   "source": [
    "# Load example STAC collection JSON\n",
    "\n",
    "response = requests.get(\n",
    "    f\"https://planetarycomputer.microsoft.com/api/stac/v1/collections/{pc_collection}\"\n",
    ")\n",
    "raise_for_status(response)\n",
    "stac_collection = response.json()\n",
    "\n",
    "collection_id = pc_collection + \"-tutorial-\" + str(random.randint(0, 1000))\n",
    "\n",
    "# Genereate a unique name for the test collection\n",
    "stac_collection[\"id\"] = collection_id\n",
    "stac_collection[\"title\"] = collection_id\n",
    "\n",
    "# Determine the storage account and container for the assets\n",
    "pc_storage_account = stac_collection.pop(\"msft:storage_account\")\n",
    "pc_storage_container = stac_collection.pop(\"msft:container\")\n",
    "pc_collection_asset_container = (\n",
    "    f\"https://{pc_storage_account}.blob.core.windows.net/{pc_storage_container}\"\n",
    ")\n",
    "\n",
    "# View your STAC collection JSON\n",
    "stac_collection"
   ]
  },
  {
   "cell_type": "markdown",
   "id": "84f1d163",
   "metadata": {},
   "source": [
    "When creating a collection within GeoCatalog a collection JSON can't have any collection level assets (such as a collection thumbnail) associated with the collection, so first remove those existing assets (don't worry you add the thumbnail back later).\n"
   ]
  },
  {
   "cell_type": "code",
   "execution_count": null,
   "id": "a34c027d",
   "metadata": {
    "lines_to_next_cell": 2
   },
   "outputs": [],
   "source": [
    "# Save the thumbnail url\n",
    "thumbnail_url = stac_collection['assets']['thumbnail']['href']\n",
    "\n",
    "# Remove the assets field from the JSON (you'll see how to add this back later)\n",
    "print(\"Removed the following items from the STAC Collection JSON:\")\n",
    "stac_collection.pop('assets')"
   ]
  },
  {
   "cell_type": "code",
   "execution_count": null,
   "id": "937db6a7",
   "metadata": {},
   "outputs": [],
   "source": [
    "# Create a STAC collection by posting to the STAC collections API\n",
    "\n",
    "collections_endpoint = f\"{geocatalog_url}/stac/collections\"\n",
    "\n",
    "response = requests.post(\n",
    "    collections_endpoint,\n",
    "    json=stac_collection,\n",
    "    headers=getBearerToken(),\n",
    "    params={\"api-version\": api_version}\n",
    ")\n",
    "\n",
    "if response.status_code==201:\n",
    "    print(\"STAC Collection created named:\",stac_collection['title'])\n",
    "else:\n",
    "    raise_for_status(response)"
   ]
  },
  {
   "cell_type": "markdown",
   "id": "67d24f13",
   "metadata": {},
   "source": [
    "Open your GeoCatalog web interface and you should see your new collection listed under the \"Collections\" tab.\n",
    "\n",
    "### Access collection thumbnail\n",
    "\n",
    "Next you want to add a thumbnail to our collection to be displayed along with our collection. For the purposes of this demo, use the thumbnail from the existing Sentinel-2 collection within Microsoft's Planetary Computer.\n"
   ]
  },
  {
   "cell_type": "code",
   "execution_count": null,
   "id": "a8cded6a",
   "metadata": {},
   "outputs": [],
   "source": [
    "# Read thumbnail for your collection\n",
    "\n",
    "thumbnail_response = requests.get(thumbnail_url)\n",
    "raise_for_status(thumbnail_response)\n",
    "img = Image.open(BytesIO(thumbnail_response.content))\n",
    "img"
   ]
  },
  {
   "cell_type": "markdown",
   "id": "23621d60",
   "metadata": {},
   "source": [
    "### Add thumbnail to your Planetary Computer Pro GeoCatalog\n",
    "\n",
    "After reading the thumbnail, you can add it to our collection in by posting it to your GeoCatalogs's collection assets API endpoint along with the required asset json.\n"
   ]
  },
  {
   "cell_type": "code",
   "execution_count": null,
   "id": "c4ff89c5",
   "metadata": {},
   "outputs": [],
   "source": [
    "# Define the GeoCatalog collections API endpoint\n",
    "collection_assets_endpoint = f\"{geocatalog_url}/stac/collections/{collection_id}/assets\"\n",
    "\n",
    "# Read the example thumbnail from this collection from the Planetary Computer\n",
    "thumbnail = {\"file\": (\"lulc.png\", thumbnail_response.content)}\n",
    "\n",
    "# Define the STAC collection asset type - thumbnail in this case\n",
    "asset = {\n",
    "    \"data\": '{\"key\": \"thumbnail\", \"href\":\"\", \"type\": \"image/png\", '\n",
    "    '\"roles\":  [\"test_asset\"], \"title\": \"test_asset\"}'\n",
    "}\n",
    "\n",
    "# Post the thumbnail to the GeoCatalog collections asset endpoint\n",
    "response = requests.post(\n",
    "    collection_assets_endpoint,\n",
    "    data=asset,\n",
    "    files=thumbnail,\n",
    "    headers=getBearerToken(),\n",
    "    params={\"api-version\": api_version}\n",
    ")\n",
    "\n",
    "if response.status_code==201:\n",
    "    print(\"STAC Collection thumbnail updated for:\",stac_collection['title'])\n",
    "else:\n",
    "    raise_for_status(response)"
   ]
  },
  {
   "cell_type": "markdown",
   "id": "fed65dcb",
   "metadata": {},
   "source": [
    "### Read new collection from within your Planetary Computer Pro GeoCatalog\n",
    "\n",
    "Refresh your browser and you should be able to see the thumbnail.  You can also retrieve the collection JSON programmatically by making the following call to the collections endpoint:\n"
   ]
  },
  {
   "cell_type": "code",
   "execution_count": null,
   "id": "390a0abd",
   "metadata": {
    "lines_to_next_cell": 2
   },
   "outputs": [],
   "source": [
    "# Request the collection JSON from your GeoCatalog\n",
    "collection_endpoint = f\"{geocatalog_url}/stac/collections/{stac_collection['id']}\"\n",
    "\n",
    "response = requests.get(\n",
    "    collection_endpoint,\n",
    "    json={'collection_id':stac_collection['id']},\n",
    "    headers=getBearerToken(),\n",
    "    params={\"api-version\": api_version}\n",
    ")\n",
    "\n",
    "if response.status_code==200:\n",
    "    print(\"STAC Collection successfully read:\",stac_collection['title'])\n",
    "else:\n",
    "    raise_for_status(response)\n",
    "\n",
    "response.json()"
   ]
  },
  {
   "cell_type": "code",
   "execution_count": null,
   "id": "5c29db5c",
   "metadata": {},
   "outputs": [],
   "source": [
    "print(f\"\"\"\n",
    "You successfully created a new STAC Collection in GeoCatalog named {collection_id}.\n",
    "You can view your collection by visiting the GeoCatalog Explorer: {geocatalog_url}/collections\n",
    "\"\"\")"
   ]
  },
  {
   "cell_type": "markdown",
   "id": "1e0ffa80",
   "metadata": {},
   "source": [
    "## Ingest STAC items & assets\n",
    "\n",
    "After creating this collection, you're ready to ingest new STAC items into your STAC collection using your GeoCatalog's Items API! Accomplish this process by:\n",
    "\n",
    "1. Obtaining a SAS token from Microsoft's Planetary Computer\n",
    "2. Register that token as an Ingestion Source within GeoCatalog\n",
    "3. Post STAC Items from that collection to GeoCatalog's Item API\n",
    "4. Verify the Items were ingested successfully\n",
    "\n"
   ]
  },
  {
   "cell_type": "code",
   "execution_count": null,
   "id": "3d5029a9",
   "metadata": {},
   "outputs": [],
   "source": [
    "ingestion_sources_endpoint = f\"{geocatalog_url}/inma/ingestion-sources\"\n",
    "ingestion_source_endpoint = lambda id: f\"{geocatalog_url}/inma/ingestion-sources/{id}\"\n",
    "\n",
    "\n",
    "def find_ingestion_source(container_url: str) -> Optional[Dict[str, Any]]:\n",
    "\n",
    "    response = requests.get(\n",
    "        ingestion_sources_endpoint,\n",
    "        headers=getBearerToken(),\n",
    "        params={\"api-version\": api_version},\n",
    "    )\n",
    "\n",
    "    for source in response.json()[\"value\"]:\n",
    "        ingestion_source_id = source[\"id\"]\n",
    "\n",
    "        response = requests.get(\n",
    "            ingestion_source_endpoint(ingestion_source_id),\n",
    "            headers=getBearerToken(),\n",
    "            params={\"api-version\": api_version},\n",
    "        )\n",
    "        raise_for_status(response)\n",
    "\n",
    "        response = response.json()\n",
    "\n",
    "        if response[\"connectionInfo\"][\"containerUrl\"] == container_url:\n",
    "            return response\n",
    "\n",
    "\n",
    "def create_ingestion_source(container_url: str, sas_token: str):\n",
    "    response = requests.post(\n",
    "        ingestion_sources_endpoint,\n",
    "        json={\n",
    "            \"kind\": \"SasToken\",\n",
    "            \"connectionInfo\": {\n",
    "                \"containerUrl\": container_url,\n",
    "                \"sasToken\": sas_token,\n",
    "            },\n",
    "        },\n",
    "        headers=getBearerToken(),\n",
    "        params={\"api-version\": api_version},\n",
    "    )\n",
    "    raise_for_status(response)\n",
    "\n",
    "\n",
    "def remove_ingestion_source(ingestion_source_id: str):\n",
    "    response = requests.delete(\n",
    "        ingestion_source_endpoint(ingestion_source_id),\n",
    "        headers=getBearerToken(),\n",
    "        params={\"api-version\": api_version},\n",
    "    )\n",
    "    raise_for_status(response)"
   ]
  },
  {
   "cell_type": "markdown",
   "id": "6ba634d2",
   "metadata": {},
   "source": [
    "### Query the Planetary Computer\n",
    "First you need to query the Planetary Computer to search for Sentinel-2 images that match our specific requirements. In this case, you're looking for Sentinel-2 imagery in the Planetary Computer that matches the following criteria:\n",
    "\n",
    "* Collection - Imagery from the Sentinel-2-l2a collection\n",
    "* Time range - Collected between February 4 and February 11 2024\n",
    "* Area of interest - Imagery collected over southern Iceland (defined as a bounding box)\n",
    "\n",
    "By performing this search, you can see the matching STAC items are found within the Planetary Computer.\n"
   ]
  },
  {
   "cell_type": "code",
   "execution_count": null,
   "id": "9b5c3579",
   "metadata": {
    "lines_to_next_cell": 2
   },
   "outputs": [],
   "source": [
    "# Search criteria\n",
    "print(\"Using the below parameters to search the Planetary Computer:\\n\")\n",
    "print(\"Collection:\", pc_collection)\n",
    "print(\"Bounding box for area of interest:\",bbox_aoi)\n",
    "print(\"Date range:\",param_date_range)\n",
    "print(\"Max number of items:\",param_max_items)"
   ]
  },
  {
   "cell_type": "code",
   "execution_count": null,
   "id": "151e422c",
   "metadata": {
    "lines_to_next_cell": 2
   },
   "outputs": [],
   "source": [
    "# Query the Planetary Computer\n",
    "\n",
    "# Connect to the Planetary Computer\n",
    "catalog = Client.open(\"https://planetarycomputer.microsoft.com/api/stac/v1\")\n",
    "\n",
    "search = catalog.search(collections=[pc_collection], bbox=bbox_aoi, datetime=param_date_range)\n",
    "total_items = search.item_collection()\n",
    "\n",
    "items = total_items[:param_max_items]\n",
    "print(\"Total number of matching items:\",len(total_items))\n",
    "print(\"Total number of items for ingest base on user selected parameter:\",len(items))\n",
    "\n",
    "if total_items==0:\n",
    "    print(\"No items matched your user specified parameters used at the top of this demo. Update these parameters\")"
   ]
  },
  {
   "cell_type": "code",
   "execution_count": null,
   "id": "b6e3bfea",
   "metadata": {},
   "outputs": [],
   "source": [
    "# Print an example STAC item returned by the Planetary Computer\n",
    "items[0]"
   ]
  },
  {
   "cell_type": "markdown",
   "id": "46647f53",
   "metadata": {},
   "source": [
    "### Register an ingestion source\n",
    "Before you can ingest these STAC items and their related assets (images) into a GeoCatalog collection you need to determine if you need to register a new ingestion source. Ingestion Sources are used by GeoCatalog to track which storage locations (Azure Blob Storage containers) it has access to. \n",
    "\n",
    "Registering an ingestion source is accomplished by providing GeoCatalog the location of the storage container and a SAS token with read permissions to access the container. If STAC items or their related assets are located in a storage container your GeoCatalog hasn't been given access to the ingest will fail.\n",
    "\n",
    "To start this process, you first request a SAS token from the Planetary Computer that grants us read access to the container where the Sentinel-2 images reside.\n"
   ]
  },
  {
   "cell_type": "code",
   "execution_count": null,
   "id": "566603e8",
   "metadata": {},
   "outputs": [],
   "source": [
    "# Request API token from the Planetary Computer\n",
    "\n",
    "pc_token = requests.get(\"https://planetarycomputer.microsoft.com/api/sas/v1/token/{}\".format(pc_collection)).json()\n",
    "print(f\"Planetary Computer API Token will expire {pc_token['msft:expiry']}\")"
   ]
  },
  {
   "cell_type": "markdown",
   "id": "33ab0f72",
   "metadata": {},
   "source": [
    "Next attempt to register this Azure Blob Storage container and associated SAS token as an ingestion source with GeoCatalog. There's the potential that an ingestion source already exists for this storage container. If so, find the ID of the existing ingestion source.\n",
    "\n",
    "**Warning!!!**\n",
    "If a duplicate ingestion source is found with a token that expires in the next 15 minutes, it's deleted and replaced. Deleting an ingestion source that is in use by currently running ingestions may break those ingestions.\n"
   ]
  },
  {
   "cell_type": "code",
   "execution_count": null,
   "id": "199d3156",
   "metadata": {},
   "outputs": [],
   "source": [
    "existing_ingestion_source: Optional[Dict[str, Any]] = find_ingestion_source(pc_collection_asset_container)\n",
    "\n",
    "if existing_ingestion_source:\n",
    "    connection_info = existing_ingestion_source[\"connectionInfo\"]\n",
    "    expiration = datetime.fromisoformat(connection_info[\"expiration\"].split('.')[0]) # works in all Python 3.X versions\n",
    "    expiration = expiration.replace(tzinfo=timezone.utc) # set timezone to UTC\n",
    "    if expiration < datetime.now(tz=timezone.utc) + timedelta(minutes=15):\n",
    "        print(f\"Recreating existing ingestion source for {pc_collection_asset_container}\")\n",
    "        remove_ingestion_source(existing_ingestion_source[\"id\"])\n",
    "        create_ingestion_source(pc_collection_asset_container, pc_token[\"token\"])\n",
    "    else:\n",
    "        print(f\"Using existing ingestion source for {pc_collection_asset_container} with expiration {expiration}\")\n",
    "else:\n",
    "    print(f\"Creating ingestion source for {pc_collection_asset_container}\")\n",
    "    create_ingestion_source(pc_collection_asset_container, pc_token[\"token\"])\n"
   ]
  },
  {
   "cell_type": "markdown",
   "id": "e8a119c0",
   "metadata": {},
   "source": [
    "### Ingest STAC items using GeoCatalog's Items API\n",
    "Now that you registered an ingestion source or validated that a source exists you'll ingest the STAC items you found within the Planetary Computer using GeoCatalog's Items API. Accomplish this by posting each item to the Items API which creates a new ingestion operation within GeoCatalog.\n"
   ]
  },
  {
   "cell_type": "code",
   "execution_count": null,
   "id": "60e95a31",
   "metadata": {},
   "outputs": [],
   "source": [
    "# Ingest items\n",
    "\n",
    "items_endpoint = f\"{geocatalog_url}/stac/collections/{collection_id}/items\"\n",
    "\n",
    "operation_ids = []\n",
    "\n",
    "for item in items:\n",
    "\n",
    "    item_json = item.to_dict()\n",
    "    item_json['collection'] = collection_id\n",
    "\n",
    "    # Remove non-static assets\n",
    "    del(item_json['assets']['rendered_preview'])\n",
    "    del(item_json['assets']['preview'])\n",
    "    del(item_json['assets']['tilejson'])\n",
    "\n",
    "    response = requests.post(\n",
    "        items_endpoint,\n",
    "        json=item_json,\n",
    "        headers=getBearerToken(),\n",
    "        params={\"api-version\": api_version}\n",
    "    )\n",
    "\n",
    "    operation_ids.append(response.json()[\"id\"])\n",
    "    print(f\"Ingesting item {item_json['id']} with operation id {response.json()['id']}\")\n"
   ]
  },
  {
   "cell_type": "markdown",
   "id": "3c7e81d9",
   "metadata": {},
   "source": [
    "Given that Sentinel-2 item ingestion can take a little time, you can run this code to check the status of your ingestion operations using GeoCatalog's Operations API.\n"
   ]
  },
  {
   "cell_type": "code",
   "execution_count": null,
   "id": "eea212fc",
   "metadata": {},
   "outputs": [],
   "source": [
    "# Check the status of the operations\n",
    "operations_endpoint = f\"{geocatalog_url}/inma/operations\"\n",
    "# Loop through all the operations ids until the status of each operation ids is \"Finished\"\n",
    "pending=True\n",
    "\n",
    "start = time.time()\n",
    "\n",
    "while pending:\n",
    "    # Count the number of operation ids that are finished vs unfinished\n",
    "    num_running = 0\n",
    "    num_finished = 0\n",
    "    num_failed = 0\n",
    "    clear_output(wait=True)\n",
    "    for operation_id in operation_ids:\n",
    "        response = requests.get(\n",
    "            f\"{operations_endpoint}/{operation_id}\",\n",
    "            headers=getBearerToken(),\n",
    "            params={\"api-version\": api_version},\n",
    "        )\n",
    "        raise_for_status(response)\n",
    "        status = response.json()[\"status\"]\n",
    "        print(f\"Operation id {operation_id} status: {status}\")\n",
    "        if status == \"Running\":\n",
    "            num_running+=1\n",
    "        elif status == \"Failed\":\n",
    "            num_failed+=1\n",
    "        elif status == \"Succeeded\":\n",
    "            num_finished+=1\n",
    "    \n",
    "    num_running\n",
    "    stop=time.time()\n",
    "    # Print the sumary of num finished, num running and num failed\n",
    "    \n",
    "    print(\"Ingesting Imagery:\")\n",
    "    print(f\"\\tFinished: {num_finished}\\n\\tRunning: {num_running}\\n\\tFailed: {num_failed}\")\n",
    "    print(\"Time Elapsed (seconds):\",str(stop-start))\n",
    "    \n",
    "    if num_running == 0:\n",
    "        pending=False\n",
    "        print(f\"Ingestion Complete!\\n\\t{num_finished} items ingested.\\n\\t{num_failed} items failed.\")\n",
    "\n",
    "    else:\n",
    "        print(f\"Waiting for {num_running} operations to finish\")\n",
    "        time.sleep(5)"
   ]
  },
  {
   "cell_type": "markdown",
   "id": "08872749",
   "metadata": {},
   "source": [
    "You should be able to refresh your web browser and click on the Items tab to see these newly uploaded items.\n",
    "\n",
    "## Collection management\n",
    "\n",
    "Now that you ingested these STAC items and their associated assets (images) into the STAC collection, you need to provide you GeoCatalog with some other configuration files before you can visualize these items in the GeoCatalog web interface.\n",
    "\n",
    "### Collection render config\n",
    "First download a render configuration file for this collection from the Planetary Computer. This config file can be read by GeoCatalog to render images in different ways within the Explorer. This is because STAC items may contain many different assets (images) that can be combined to create entirely new images of a given area that highlight visible or nonvisible features. For instance, Sentinel-2 STAC items have over 12 different images from different portions of the electromagnetic spectrum. This render config instructs GeoCatalog on how to combine these images so it can display images in Natural Color or False Color (Color Infrared).\n"
   ]
  },
  {
   "cell_type": "code",
   "execution_count": null,
   "id": "7f98f2f1",
   "metadata": {},
   "outputs": [],
   "source": [
    "# Read render JSON from Planetary Computer\n",
    "\n",
    "render_json = requests.get(\"https://planetarycomputer.microsoft.com/api/data/v1/mosaic/info?collection={}\".format(pc_collection)).json()\n",
    "render_json['renderOptions']"
   ]
  },
  {
   "cell_type": "markdown",
   "id": "83038008",
   "metadata": {},
   "source": [
    "After reading this render options config from the Planetary Computer, you can enable these render options for the collection by posting this config to the render-options endpoint.\n"
   ]
  },
  {
   "cell_type": "code",
   "execution_count": null,
   "id": "850cc94c",
   "metadata": {},
   "outputs": [],
   "source": [
    "# Post render options config to GeoCatalog render-options API\n",
    "\n",
    "render_config_endpoint = f\"{geocatalog_url}/stac/collections/{collection_id}/configurations/render-options\"\n",
    "\n",
    "for render_option in render_json['renderOptions']:\n",
    "\n",
    "    # Rename render configs such that they can be stored by GeoCatalog\n",
    "    render_option['id'] = render_option['name'].translate(str.maketrans('', '', string.punctuation)).lower().replace(\" \",\"-\")[:30]\n",
    "\n",
    "    # Post render definition\n",
    "    response = requests.post(\n",
    "        render_config_endpoint,\n",
    "        json=render_option,\n",
    "        headers=getBearerToken(),\n",
    "        params={\"api-version\": api_version}\n",
    "    )"
   ]
  },
  {
   "cell_type": "markdown",
   "id": "b75d7aad",
   "metadata": {},
   "source": [
    "### Mosaic definitions\n",
    "\n",
    "Similar to the Render Config discussed above, GeoCatalog's Explorer allows us to specify one or more mosaic definitions for the collection. These mosaic definitions enable us to instruct GeoCatalog's Explorer on how to filter which items are displayed within the Explorer. For example, one basic render configuration (shown in the next cell) instructs GeoCatalog to display the most recent image for any given area. More advanced render configurations allow us to render different views such as the least cloudy image for a given location captured in October 2023.\n"
   ]
  },
  {
   "cell_type": "code",
   "execution_count": null,
   "id": "45a0fb3e",
   "metadata": {},
   "outputs": [],
   "source": [
    "# Post mosaic definition\n",
    "\n",
    "mosiacs_config_endpoint = f\"{geocatalog_url}/stac/collections/{collection_id}/configurations/mosaics\"\n",
    "\n",
    "response = requests.post(\n",
    "    mosiacs_config_endpoint,\n",
    "    json={\"id\": \"mos1\",\n",
    "          \"name\": \"Most recent available\",\n",
    "          \"description\": \"Most recent available imagery in this collection\",\n",
    "          \"cql\": []\n",
    "    },\n",
    "    headers=getBearerToken(),\n",
    "    params={\"api-version\": api_version}\n",
    ")"
   ]
  },
  {
   "cell_type": "markdown",
   "id": "a46576e0",
   "metadata": {},
   "source": [
    "### Open GeoCatalog web interface\n",
    "\n",
    "Congrats! You created a collection, added STAC items and assets, and updated your collection to include the required configuration files so it can be viewed through the Explorer within the GeoCatalog web interface.\n",
    "\n",
    "**Navigate back to the GeoCatalog Explorer in the web interface to view your collection!**\n",
    "\n",
    "## Query collection via STAC API\n",
    "\n",
    "Now that viewed your collection in the GeoCatalog Explorer, you'll walk through how to use GeoCatalog's STAC APIs to search for and retrieve STAC items and assets for further analysis.\n",
    "\n",
    "This process starts by posting a search to your GeoCatalog's STAC API. Specifically, you'll search for imagery within your collection that falls within the original bounding box you used to extract imagery from the Planetary Computer.\n",
    "\n",
    "Unsurprisingly this query returns all the STAC items you previously placed within your collection.\n"
   ]
  },
  {
   "cell_type": "code",
   "execution_count": null,
   "id": "3676d13b",
   "metadata": {},
   "outputs": [],
   "source": [
    "stac_search_endpoint = f\"{geocatalog_url}/stac/search\"\n",
    "\n",
    "response = requests.post(\n",
    "    stac_search_endpoint,\n",
    "    json={\"collections\":[collection_id],\n",
    "          \"bbox\":bbox_aoi\n",
    "    },\n",
    "    headers=getBearerToken(),\n",
    "    params={\"api-version\": api_version, \"sign\": \"true\"}\n",
    ")\n",
    "\n",
    "matching_items = response.json()['features']\n",
    "print(len(matching_items))"
   ]
  },
  {
   "cell_type": "markdown",
   "id": "254149be",
   "metadata": {},
   "source": [
    "In your prior query, you also provided another parameter: **sign:true**. This instructs GeoCatalog to return a signed href (item href + SAS token) which allows you to read the given assets from Azure Blob Storage.\n"
   ]
  },
  {
   "cell_type": "code",
   "execution_count": null,
   "id": "3dfcca04",
   "metadata": {
    "lines_to_next_cell": 0
   },
   "outputs": [],
   "source": [
    "# Download one of the assets bands, band 09\n",
    "asset_href = matching_items[0]['assets']['B09']['href']\n",
    "print(asset_href)\n",
    "\n",
    "response = requests.get(asset_href)\n",
    "img = Image.open(BytesIO(response.content))\n",
    "img"
   ]
  },
  {
   "cell_type": "markdown",
   "id": "2f03b332",
   "metadata": {},
   "source": [
    "## Clean up resources\n",
    "### Delete items\n",
    "\n",
    "At this point, you have created a GeoCatalog Collection, added items and assets to the collection, and retrieved those items and assets using GeoCatalog's STAC API. For the final phase of this tutorial, you're going to remove these items and delete your collection.\n"
   ]
  },
  {
   "cell_type": "code",
   "execution_count": null,
   "id": "a8e9aeb2",
   "metadata": {},
   "outputs": [],
   "source": [
    "# Delete all items\n",
    "\n",
    "for item in matching_items:\n",
    "    response = requests.delete(\n",
    "        f\"{items_endpoint}/{item['id']}\",\n",
    "        headers=getBearerToken(),\n",
    "        params={\"api-version\": api_version}\n",
    "    )"
   ]
  },
  {
   "cell_type": "markdown",
   "id": "dc699366",
   "metadata": {},
   "source": [
    "You can confirm all of your items were deleted by running the next command. Note it may take a minute or two to fully delete items and their associated assets.\n"
   ]
  },
  {
   "cell_type": "code",
   "execution_count": null,
   "id": "477fe637",
   "metadata": {},
   "outputs": [],
   "source": [
    "# Confirm that all the items have been deleted\n",
    "response = requests.post(\n",
    "    stac_search_endpoint,\n",
    "    json={\"collections\":[stac_collection['id']],\n",
    "          \"bbox\": bbox_aoi\n",
    "    },\n",
    "    headers=getBearerToken(),\n",
    "    params={\"api-version\": api_version, \"sign\": \"true\"}\n",
    ")\n",
    "\n",
    "matching_items = response.json()['features']\n",
    "print(len(matching_items))"
   ]
  },
  {
   "cell_type": "markdown",
   "id": "2efdbcd0",
   "metadata": {},
   "source": [
    "### Delete collection\n",
    "\n",
    "Now as a final step, you may want to fully delete your collection from your GeoCatalog instance.\n"
   ]
  },
  {
   "cell_type": "code",
   "execution_count": null,
   "id": "845d3b33",
   "metadata": {},
   "outputs": [],
   "source": [
    "# Delete the collection\n",
    "response = requests.delete(\n",
    "    f\"{collections_endpoint}/{collection_id}\",\n",
    "    headers=getBearerToken(),\n",
    "    params={\"api-version\": api_version}\n",
    ")\n",
    "\n",
    "raise_for_status(response)\n",
    "print(f\"STAC Collection deleted: {collection_id}\")"
   ]
  },
  {
   "cell_type": "markdown",
   "id": "87f81ac4",
   "metadata": {},
   "source": [
    "## Related content\n",
    "In this end-to-end tutorial, you walked through the process of creating a new STAC collection, ingesting Sentinel-2 images into the collection, and querying those images via GeoCatalog's APIs. If you would like to learn more about each of these topics, explore these other materials:\n",
    "\n",
    "* [Create a GeoCatalog](https://learn.microsoft.com/en-us/azure/planetary-computer/deploy-geocatalog-resource.md)\n",
    "* [Create a collection](https://learn.microsoft.com/en-us/azure/planetary-computer/create-stac-collection.md)\n",
    "* [Ingest STAC items](https://learn.microsoft.com/en-us/azure/planetary-computer/ingestion-source.md)\n",
    "* [Create a Render Configuration](https://learn.microsoft.com/en-us/azure/planetary-computer/render-configuration.md)\n",
    "* [Configure collection Tile Settings](https://learn.microsoft.com/en-us/azure/planetary-computer/tile-settings.md)\n",
    "* [Mosaic Configuration](https://learn.microsoft.com/en-us/azure/planetary-computer/mosaic-configurations-for-collections.md)\n",
    "* [Queryables Configuration](https://learn.microsoft.com/en-us/azure/planetary-computer/queryables-for-explorer-custom-search-filter.md)"
   ]
  }
 ],
 "metadata": {
  "jupytext": {
   "cell_metadata_filter": "-all",
   "notebook_metadata_filter": "-all"
  },
  "kernelspec": {
   "display_name": "Python 3.8 - AzureML",
   "language": "python",
   "name": "python38-azureml"
  },
  "language_info": {
   "codemirror_mode": {
    "name": "ipython",
    "version": 3
   },
   "file_extension": ".py",
   "mimetype": "text/x-python",
   "name": "python",
   "nbconvert_exporter": "python",
   "pygments_lexer": "ipython3",
   "version": "3.8.5"
  }
 },
 "nbformat": 4,
 "nbformat_minor": 5
}
