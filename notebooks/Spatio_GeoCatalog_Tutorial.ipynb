{
 "cells": [
  {
   "cell_type": "markdown",
   "id": "cd5d9ae4-a92e-4348-b15c-92527f89288f",
   "metadata": {},
   "source": [
    "# Spatio GeoCatalog (PREVIEW/CONFIDENTIAL) - Getting Started\n",
    "\n",
    "Welcome! In this tutorial you will create your very own STAC collection within a Spatio GeoCatalog. The first step to creating a STAC Collection is to define and create the Collection itself. Once created, you will be able to ingest STAC Items and assets into your collection, then search for and retrieve those items via a STAC API.\n",
    "\n",
    "#### Prerequisites\n",
    "\n",
    "You'll need to have created a Spatio GeoCatalog instance in your Azure subscription. You'll also need an environment to execute this notebook and install the necessary packages. We suggest running this tutorial through Visual Studio Code's notebook integration in a Python virtual environment. However, this notebook should run wherever you can run Jupyter notebooks, provided the following requirements are met:\n",
    "\n",
    "* Python 3.8 or later\n",
    "* Azure CLI is installed, and you have run az login to log into your Azure account\n",
    "* You've installed the necessary requirements with pip install -r requirements.txt\n",
    "\n",
    "#### What is a STAC Collection?\n",
    "\n",
    "A SpatioTemporal Asset Catalog (STAC) Collection is a group of related STAC Items that share common metadata and are organized in a structured way. STAC Collections are used to describe a set of spatiotemporal assets that are related to each other, such as a set of satellite images that are taken by the same satellite over a period of time. STAC Collections provide additional metadata about the data, such as the spatial and temporal extent of the data, the license, keywords, providers, etc. They also can define common properties so that items in the collection don’t have to duplicate common data for each item.\n",
    "\n",
    "#### How is a STAC Collection Defined?\n",
    "\n",
    "A STAC Collection is defined as a JSON file that contains both required and optional fields. The required fields include:\n",
    "\n",
    "* **id** - A unique ID for the collection\n",
    "* **title** - A descriptive title for the collection\n",
    "* **description** - A short description of the type of data contained within the collection\n",
    "* **extent** - The extent field describes the spatial and temporal bounds of the collection\n",
    "\n",
    "A STAC Collection can also contain additional optional fields including:\n",
    "\n",
    "* **keywords** - Describes the content of the collection\n",
    "* **license** - List the license under which the data is made available\n",
    "* **providers** - Describe the organizations that provided the data\n",
    "* **summaries** - Summaries of the data in the collection\n"
   ]
  },
  {
   "cell_type": "markdown",
   "id": "6df89abb-a285-49b5-be90-690b9a21d38d",
   "metadata": {},
   "source": [
    "#### Log in to Azure with the Azure CLI\n",
    "The following command logs you into Azure using the Azure CLI. Run the command and follow the instructions to log in."
   ]
  },
  {
   "cell_type": "code",
   "execution_count": null,
   "id": "6ec3fd93-d6dc-41ce-8506-7ebc6c3bcf75",
   "metadata": {},
   "outputs": [],
   "source": [
    "!az login"
   ]
  },
  {
   "cell_type": "markdown",
   "id": "d40eaf3e",
   "metadata": {},
   "source": [
    "# Select Tutorial Options\n",
    "\n",
    "Before running this tutorial you will need to have contributor access to an existing GeoCatalog instance. Enter the url of your GeoCatalog instance in the cell below. For the purposes of this tutorial, you will be creating a collection for Sentinel-2 imagery provided by the European Space Agency (ESA) that is currently stored in Microsoft's Planetary Computer."
   ]
  },
  {
   "cell_type": "code",
   "execution_count": null,
   "id": "d3d3b1f9",
   "metadata": {},
   "outputs": [],
   "source": [
    "# URL for your given GeoCatalog\n",
    "geocatalog_url = (\n",
    "    \"<GEOCATALOG_URL>\"\n",
    ")\n",
    "geocatalog_url = geocatalog_url.rstrip(\"/\")  # Remove trailing slash if present\n",
    "\n",
    "# User Selections for Demo\n",
    "\n",
    "# Collection within the Planetary Computer\n",
    "pc_collection = \"sentinel-2-l2a\"\n",
    "\n",
    "# Bounding box for AOI\n",
    "bbox_aoi = [-22.455626, 63.834083, -22.395201, 63.880750]\n",
    "\n",
    "# Date range to search for imagery\n",
    "param_date_range = \"2024-02-04/2024-02-11\"\n",
    "\n",
    "# Maximum number of items to ingest\n",
    "param_max_items = 6"
   ]
  },
  {
   "cell_type": "markdown",
   "id": "c08a709f-5c65-47ad-bd4e-52a3a2176783",
   "metadata": {},
   "source": [
    "#### Create a STAC Collection\n",
    "\n",
    "##### Import the Required Packages\n",
    "\n",
    "Before we can create a STAC collection we need to import a few python packages. We also define helper functions to retrieve the required access token and print any error messages."
   ]
  },
  {
   "cell_type": "code",
   "execution_count": null,
   "id": "ff34e134",
   "metadata": {},
   "outputs": [],
   "source": [
    "# Install the required python packages via pip\n",
    "%pip install -r requirements.txt"
   ]
  },
  {
   "cell_type": "code",
   "execution_count": null,
   "id": "c095eb69-8b4c-4ae4-b460-a233b40ad24f",
   "metadata": {},
   "outputs": [],
   "source": [
    "# Import the required packages\n",
    "import json\n",
    "import random\n",
    "import string\n",
    "import time\n",
    "from datetime import datetime, timedelta, timezone\n",
    "from io import BytesIO\n",
    "from typing import Any, Optional, Dict\n",
    "\n",
    "import requests\n",
    "from azure.identity import AzureCliCredential\n",
    "from IPython.display import Markdown as md\n",
    "from IPython.display import clear_output\n",
    "from PIL import Image\n",
    "from pystac_client import Client\n",
    "\n",
    "# Function to get a bearer token for the Spatio API\n",
    "SPATIO_APP_ID = \"https://geocatalog.spatio.azure.com\"\n",
    "\n",
    "_access_token = None\n",
    "def getBearerToken():\n",
    "    global _access_token\n",
    "    if not _access_token or datetime.fromtimestamp(_access_token.expires_on) < datetime.now() + timedelta(minutes=5):\n",
    "        credential = AzureCliCredential()\n",
    "        _access_token = credential.get_token(f\"{SPATIO_APP_ID}/.default\")\n",
    "\n",
    "    return {\"Authorization\": f\"Bearer {_access_token.token}\"}\n",
    "\n",
    "# Method to print error messages when checking response status\n",
    "def raise_for_status(r: requests.Response) -> None:\n",
    "    try:\n",
    "        r.raise_for_status()\n",
    "    except requests.exceptions.HTTPError as e:\n",
    "        try:\n",
    "            print(json.dumps(r.json(), indent=2))\n",
    "        except:\n",
    "            print(r.content)\n",
    "        finally:\n",
    "            raise"
   ]
  },
  {
   "cell_type": "markdown",
   "id": "6d0c5c84-221a-4957-9ce2-9be97e277f7d",
   "metadata": {},
   "source": [
    "##### Define a STAC Collection JSON\n",
    "Next we need to define a STAC collection as a JSON item. For the purposes of this tutorial, we will read an existing STAC collection JSON for the Sentinel-2-l2a collection within Microsoft's Planetary Computer. Note that your collection is assigned a random id and title so as not to conflict with other existing collections."
   ]
  },
  {
   "cell_type": "code",
   "execution_count": null,
   "id": "c2b175cd-b2c0-4614-a1f2-af532b22f061",
   "metadata": {},
   "outputs": [],
   "source": [
    "# Load example STAC Collection JSON\n",
    "\n",
    "response = requests.get(\n",
    "    f\"https://planetarycomputer.microsoft.com/api/stac/v1/collections/{pc_collection}\"\n",
    ")\n",
    "raise_for_status(response)\n",
    "stac_collection = response.json()\n",
    "\n",
    "collection_id = pc_collection + \"-tutorial-\" + str(random.randint(0, 1000))\n",
    "\n",
    "# Genereate a unique name for the test collection\n",
    "stac_collection[\"id\"] = collection_id\n",
    "stac_collection[\"title\"] = collection_id\n",
    "\n",
    "# Determine the storage account and container for the assets\n",
    "pc_storage_account = stac_collection.pop(\"msft:storage_account\")\n",
    "pc_storage_container = stac_collection.pop(\"msft:container\")\n",
    "pc_collection_asset_container = (\n",
    "    f\"https://{pc_storage_account}.blob.core.windows.net/{pc_storage_container}\"\n",
    ")\n",
    "\n",
    "# View your STAC Collection JSON\n",
    "stac_collection"
   ]
  },
  {
   "cell_type": "markdown",
   "id": "021b4fc3-4914-4e3c-9e76-35db2c30a18d",
   "metadata": {},
   "source": [
    "When creating a collection within GeoCatalog a collection JSON can't have any assets associated with the collection, so we will remove those existing assets below (don't worry we will show you how to add these back later). However, before we remove the assets we will save the thumbnail url for this collection for use later on."
   ]
  },
  {
   "cell_type": "code",
   "execution_count": null,
   "id": "7ca205cb-8a0d-4ebf-a6ef-b035df730d90",
   "metadata": {},
   "outputs": [],
   "source": [
    "# Save the thumbnail url\n",
    "thumbnail_url = stac_collection['assets']['thumbnail']['href']\n",
    "\n",
    "# Remove the assets field from the JSON (you will see how to add this back later)\n",
    "print(\"Removed the following items from the STAC Collection JSON:\")\n",
    "stac_collection.pop('assets')"
   ]
  },
  {
   "cell_type": "code",
   "execution_count": null,
   "id": "9f5b8262-1bbf-4c5e-a689-e9aa2608297f",
   "metadata": {},
   "outputs": [],
   "source": [
    "# Create a STAC Collection by posting to the STAC collections API\n",
    "\n",
    "collections_endpoint = f\"{geocatalog_url}/api/collections\"\n",
    "\n",
    "response = requests.post(\n",
    "    collections_endpoint,\n",
    "    json=stac_collection,\n",
    "    headers=getBearerToken(),\n",
    "    params={\"api-version\": \"2024-01-31-preview\"}\n",
    ")\n",
    "\n",
    "if response.status_code==201:\n",
    "    print(\"STAC Collection created named:\",stac_collection['title'])\n",
    "else:\n",
    "    raise_for_status(response)"
   ]
  },
  {
   "cell_type": "markdown",
   "id": "2ceae418",
   "metadata": {},
   "source": [
    "If you open your GeoCatalog instance in a web browser you should see your new collection."
   ]
  },
  {
   "cell_type": "markdown",
   "id": "fa08e68b-459f-4226-811d-c5cd26337911",
   "metadata": {
    "tags": []
   },
   "source": [
    "##### Access Collection Thumbnail\n",
    "\n",
    "Next we want to add a thumbnail to our collection to be displayed along with our collection. For the purposes of this demo we will use the thumbnail from the existing Sentinel-2 collection within Microsoft's Planetary Computer."
   ]
  },
  {
   "cell_type": "code",
   "execution_count": null,
   "id": "f3612e77-4edc-485e-829f-4acdc2b814a0",
   "metadata": {},
   "outputs": [],
   "source": [
    "# Read thumbnail for your collection\n",
    "\n",
    "thumbnail_response = requests.get(thumbnail_url)\n",
    "raise_for_status(thumbnail_response)\n",
    "img = Image.open(BytesIO(thumbnail_response.content))\n",
    "img"
   ]
  },
  {
   "cell_type": "markdown",
   "id": "8c0975a9-0501-4186-a5f4-67eed2e67d45",
   "metadata": {},
   "source": [
    "##### Add Thumbnail to your Spatio GeoCatalog\n",
    "\n",
    "After reading the thumbnail, we can add it to our collection in Spatio by posting it to Spatio's collection assets API endpoint along with the required asset json."
   ]
  },
  {
   "cell_type": "code",
   "execution_count": null,
   "id": "b2be1e8e-8ac0-4107-9c3c-10e3f1f27dbb",
   "metadata": {},
   "outputs": [],
   "source": [
    "# Define the Spatio Collections API endpoint\n",
    "collection_assets_endpoint = f\"{geocatalog_url}/api/collections/{collection_id}/assets\"\n",
    "\n",
    "# Read the example thumbnail from this collection from the Planetary Computer\n",
    "thumbnail = {\"file\": (\"lulc.png\", thumbnail_response.content)}\n",
    "\n",
    "# Define the STAC Collection asset type - thumbnail in this case\n",
    "asset = {\n",
    "    \"data\": '{\"key\": \"thumbnail\", \"href\":\"\", \"type\": \"image/png\", '\n",
    "    '\"roles\":  [\"test_asset\"], \"title\": \"test_asset\"}'\n",
    "}\n",
    "\n",
    "# Post the thumbnail to the Spatio collections asset endpoint\n",
    "response = requests.post(\n",
    "    collection_assets_endpoint,\n",
    "    data=asset,\n",
    "    files=thumbnail,\n",
    "    headers=getBearerToken(),\n",
    "    params={\"api-version\": \"2024-01-31-preview\"}\n",
    ")\n",
    "\n",
    "if response.status_code==201:\n",
    "    print(\"STAC Collection thumbnail updated for:\",stac_collection['title'])\n",
    "else:\n",
    "    raise_for_status(response)"
   ]
  },
  {
   "cell_type": "markdown",
   "id": "352649e8-9f9d-4dc0-8699-bdfd826b2ab1",
   "metadata": {},
   "source": [
    "#### Read new collection from within your Spatio GeoCatalog\n",
    "\n",
    "If you refresh your browser you should be able to see the thumbnail.  You can also retrieve the collection JSON programmatically by making the following call to the collections endpoint:"
   ]
  },
  {
   "cell_type": "code",
   "execution_count": null,
   "id": "9caa9433-776c-4a57-b4d1-3be058402b88",
   "metadata": {},
   "outputs": [],
   "source": [
    "# Request the collection JSON from Spatio\n",
    "response = requests.get(\n",
    "    collections_endpoint,\n",
    "    json={'collection_id':stac_collection['id']},\n",
    "    headers=getBearerToken(),\n",
    "    params={\"api-version\": \"2024-01-31-preview\"}\n",
    ")\n",
    "\n",
    "if response.status_code==200:\n",
    "    print(\"STAC Collection successfully read:\",stac_collection['title'])\n",
    "else:\n",
    "    raise_for_status(response)\n",
    "\n",
    "response.json()"
   ]
  },
  {
   "cell_type": "code",
   "execution_count": null,
   "id": "5c6f44ef",
   "metadata": {},
   "outputs": [],
   "source": [
    "print(f\"\"\"\n",
    "You successfully created a new STAC Collection in GeoCatalog named {collection_id}.\n",
    "You can view your collection by visiting the GeoCatalog Explorer: {geocatalog_url}/collections\n",
    "\"\"\")"
   ]
  },
  {
   "cell_type": "markdown",
   "id": "124a327c-ad8d-45a4-84a2-6ae8c473dadb",
   "metadata": {},
   "source": [
    "# Ingest STAC Items & Assets"
   ]
  },
  {
   "cell_type": "markdown",
   "id": "ef9b1317-2d7d-4b0c-93fd-db20b09412d8",
   "metadata": {},
   "source": [
    "After creating the collection above you are ready to ingest new STAC items into your STAC collection using Spatio's Items API! In this tutorial we will accomplish this by:\n",
    "\n",
    "1. Obtain a SAS token from Microsoft's Planetary Computer\n",
    "2. Register that token as an Ingestion Source within GeoCatalog\n",
    "3. Post STAC Items from that collection to GeoCatalog's Item API\n",
    "4. Verify the Items were ingested successfully\n"
   ]
  },
  {
   "cell_type": "code",
   "execution_count": null,
   "id": "7acaf1df-095f-423f-9854-ac3c11bd042d",
   "metadata": {},
   "outputs": [],
   "source": [
    "ingestion_sources_endpoint = f\"{geocatalog_url}/api/ingestion-sources\"\n",
    "ingestion_source_endpoint = lambda id: f\"{geocatalog_url}/api/ingestion-sources/{id}\"\n",
    "\n",
    "\n",
    "def find_ingestion_source(container_url: str) -> Optional[Dict[str, Any]]:\n",
    "\n",
    "    response = requests.get(\n",
    "        ingestion_sources_endpoint,\n",
    "        headers=getBearerToken(),\n",
    "        params={\"api-version\": \"2024-01-31-preview\"},\n",
    "    )\n",
    "\n",
    "    for source in response.json():\n",
    "        ingestion_source_id = source[\"id\"]\n",
    "\n",
    "        response = requests.get(\n",
    "            ingestion_source_endpoint(ingestion_source_id),\n",
    "            headers=getBearerToken(),\n",
    "            params={\"api-version\": \"2024-01-31-preview\"},\n",
    "        )\n",
    "        raise_for_status(response)\n",
    "\n",
    "        response = response.json()\n",
    "\n",
    "        if response[\"connectionInfo\"][\"containerUrl\"] == container_url:\n",
    "            return response\n",
    "\n",
    "\n",
    "def create_ingestion_source(container_url: str, sas_token: str):\n",
    "    response = requests.post(\n",
    "        ingestion_sources_endpoint,\n",
    "        json={\n",
    "            \"sourceType\": \"SasToken\",\n",
    "            \"connectionInfo\": {\n",
    "                \"containerUrl\": container_url,\n",
    "                \"sasToken\": sas_token,\n",
    "            },\n",
    "        },\n",
    "        headers=getBearerToken(),\n",
    "        params={\"api-version\": \"2024-01-31-preview\"},\n",
    "    )\n",
    "    raise_for_status(response)\n",
    "\n",
    "\n",
    "def remove_ingestion_source(ingestion_source_id: str):\n",
    "    response = requests.delete(\n",
    "        ingestion_source_endpoint(ingestion_source_id),\n",
    "        headers=getBearerToken(),\n",
    "        params={\"api-version\": \"2024-01-31-preview\"},\n",
    "    )\n",
    "    raise_for_status(response)"
   ]
  },
  {
   "cell_type": "markdown",
   "id": "64dd2bd1",
   "metadata": {},
   "source": [
    "#### Query the Planetary Computer\n",
    "First we need to query the Planetary Computer to search for Sentinel-2 images that match our specific requirements. In this case we are looking for Sentinel-2 imagery in the Planetary Computer that matches the following criteria:\n",
    "\n",
    "* Collection - Imagery from the Sentinel-2-l2a collection\n",
    "* Time range - Collected between February 4th and February 11th\n",
    "* Area of interest - Imagery collected over southern Iceland (defined as a bounding box)\n",
    "\n",
    "After performing this search we can see the matching STAC items are found within the Planetary Computer."
   ]
  },
  {
   "cell_type": "code",
   "execution_count": null,
   "id": "83c09694-a2a2-4c45-85de-5d5fe011c81b",
   "metadata": {},
   "outputs": [],
   "source": [
    "# Search Criteria\n",
    "print(\"Using the below parameters to search the Planetary Computer:\\n\")\n",
    "print(\"Collection:\", pc_collection)\n",
    "print(\"Bounding box for area of interest:\",bbox_aoi)\n",
    "print(\"Date range:\",param_date_range)\n",
    "print(\"Max number of items:\",param_max_items)"
   ]
  },
  {
   "cell_type": "code",
   "execution_count": null,
   "id": "a5ad9aa6-2577-4732-92fe-ae7342d3877d",
   "metadata": {},
   "outputs": [],
   "source": [
    "# Query the Planetary Computer\n",
    "\n",
    "# Connect to the Planetary Computer\n",
    "catalog = Client.open(\"https://planetarycomputer.microsoft.com/api/stac/v1\")\n",
    "\n",
    "search = catalog.search(collections=[pc_collection], bbox=bbox_aoi, datetime=param_date_range)\n",
    "total_items = search.item_collection()\n",
    "\n",
    "items = total_items[:param_max_items]\n",
    "print(\"Total number of matching items:\",len(total_items))\n",
    "print(\"Total number of items for ingest base on user selected parameter:\",len(items))\n",
    "\n",
    "if total_items==0:\n",
    "    print(\"No items matched your user specified parameters used at the top of this demo. Update these parameters\")"
   ]
  },
  {
   "cell_type": "code",
   "execution_count": null,
   "id": "99acb792",
   "metadata": {},
   "outputs": [],
   "source": [
    "# Print an example STAC item returned by the Planetary Computer\n",
    "items[0]"
   ]
  },
  {
   "cell_type": "markdown",
   "id": "a5c16515",
   "metadata": {},
   "source": [
    "### Register an Ingestion Source\n",
    "Before we can ingest these STAC items and their related assets (images) into our GeoCatalog collection we will need to determine if we need to register a new ingestion source for these items. Ingestion Sources are used by GeoCatalog to track which  storage locations (Azure Blob Storage containers) it has been given access to. \n",
    "\n",
    "Within GeoCatalog, this is accomplished by providing GeoCatalog the location of the storage container and a SAS token with read permissions to access the container. If STAC items or their related assets are located in a storage container that GeoCatalog has not been given access to it will be unable to read those items and our ingest will fail.\n",
    "\n",
    "Given this, first we will request a SAS token from the Planetary Computer that grants us read access to the container where the Sentinel-2 images reside."
   ]
  },
  {
   "cell_type": "code",
   "execution_count": null,
   "id": "f9298bb5-bdeb-4a01-96b3-1ca54b782701",
   "metadata": {},
   "outputs": [],
   "source": [
    "# Request API Token from the Planetary Computer\n",
    "\n",
    "pc_token = requests.get(\"https://planetarycomputer.microsoft.com/api/sas/v1/token/{}\".format(pc_collection)).json()\n",
    "print(f\"Planetary Computer API Token will expire {pc_token['msft:expiry']}\")"
   ]
  },
  {
   "cell_type": "markdown",
   "id": "65c9af37",
   "metadata": {},
   "source": [
    "Next we will attempt to register this Azure Blob Storage container and associated SAS token as an ingestion source with GeoCatalog. There is the potential that an ingestion source already exists for this storage container. If this is the case, in the below code we find the id of the existing ingestion source.\n",
    "\n",
    "**Warning** - If a duplicate ingestion source is found with a token that expires in the next 15 minutes, it will be deleted and replaced. Note that deleting an ingestion source that is in use by currently running ingestions may break those ingestions."
   ]
  },
  {
   "cell_type": "code",
   "execution_count": null,
   "id": "1b86775d-6347-4b91-9799-11dfaad392f9",
   "metadata": {},
   "outputs": [],
   "source": [
    "existing_ingestion_source: Optional[Dict[str, Any]] = find_ingestion_source(pc_collection_asset_container)\n",
    "\n",
    "if existing_ingestion_source:\n",
    "    connection_info = existing_ingestion_source[\"connectionInfo\"]\n",
    "    expiration = datetime.fromisoformat(connection_info[\"expiration\"].split('.')[0]) # works in all Python 3.X versions\n",
    "    expiration = expiration.replace(tzinfo=timezone.utc) # set timezone to UTC\n",
    "    if expiration < datetime.now(tz=timezone.utc) + timedelta(minutes=15):\n",
    "        print(f\"Recreating existing ingestion source for {pc_collection_asset_container}\")\n",
    "        remove_ingestion_source(existing_ingestion_source[\"id\"])\n",
    "        create_ingestion_source(pc_collection_asset_container, pc_token[\"token\"])\n",
    "    else:\n",
    "        print(f\"Using existing ingestion source for {pc_collection_asset_container} with expiration {expiration}\")\n",
    "else:\n",
    "    print(f\"Creating ingestion source for {pc_collection_asset_container}\")\n",
    "    create_ingestion_source(pc_collection_asset_container, pc_token[\"token\"])\n"
   ]
  },
  {
   "cell_type": "markdown",
   "id": "e8b56d2b",
   "metadata": {},
   "source": [
    "### Ingest STAC Items using GeoCatalog's Items API\n",
    "Now that we have registered an ingestion source or validated that a source exists we will ingest the STAC items we found within the Planetary Computer using GeoCatalog's Items API. We accomplish this by posting each item to the Items API which creates a new ingestion operation within GeoCatalog."
   ]
  },
  {
   "cell_type": "code",
   "execution_count": null,
   "id": "028c842b-52e3-4f4a-8b92-82ecd46ead96",
   "metadata": {},
   "outputs": [],
   "source": [
    "# Ingest Items\n",
    "\n",
    "items_endpoint = f\"{geocatalog_url}/api/collections/{collection_id}/items\"\n",
    "\n",
    "for item in items:\n",
    "\n",
    "    item_json = item.to_dict()\n",
    "    item_json['collection'] = collection_id\n",
    "\n",
    "    response = requests.post(\n",
    "        items_endpoint,\n",
    "        json=item_json,\n",
    "        headers=getBearerToken(),\n",
    "        params={\"api-version\": \"2024-01-31-preview\"}\n",
    "    )\n"
   ]
  },
  {
   "cell_type": "markdown",
   "id": "fe530d26",
   "metadata": {},
   "source": [
    "Given that Sentinel-2 item ingestion can take some time, you can run the below code to check the status of your ingestion operations using GeoCatalog's operations API."
   ]
  },
  {
   "cell_type": "code",
   "execution_count": null,
   "id": "c0c01407-9bca-45f3-9fc5-e8cc7c3f2717",
   "metadata": {},
   "outputs": [],
   "source": [
    "# Check the status of the operations\n",
    "operations_endpoint = f\"{geocatalog_url}/api/collections/{collection_id}/operations\"\n",
    "\n",
    "pending=True\n",
    "\n",
    "start = time.time()\n",
    "\n",
    "while pending==True:\n",
    "\n",
    "    response = requests.get(\n",
    "            operations_endpoint,\n",
    "            headers=getBearerToken(),\n",
    "            params={\"api-version\": \"2024-01-31-preview\"}\n",
    "    )\n",
    "\n",
    "    raise_for_status(response)\n",
    "\n",
    "\n",
    "    finished_count = len([i for i in response.json() if i['status']==\"Finished\"])\n",
    "    running_count = len([i for i in response.json() if i['status']==\"Running\"])\n",
    "    pending_count = len([i for i in response.json() if i['status']==\"Pending\"])\n",
    "    failed_count = len([i for i in response.json() if i['status']==\"Failed\"])\n",
    "\n",
    "    stop=time.time()\n",
    "    clear_output(wait=True)\n",
    "\n",
    "    print(\"Ingesting Imagery:\")\n",
    "    print(\"Finished Items:\", finished_count)\n",
    "    print(\"Running Items:\", running_count)\n",
    "    print(\"Pending Items:\", pending_count)\n",
    "    print(\"Failed Items:\", failed_count)\n",
    "    print(\"Time Elapsed (seconds):\",str(stop-start))\n",
    "\n",
    "    if pending_count==0 and running_count==0:\n",
    "        pending = False\n",
    "\n",
    "        print(\"Ingestion Complete! {} items ingested\".format(finished_count))\n",
    "        break\n",
    "\n",
    "    time.sleep(10)"
   ]
  },
  {
   "cell_type": "markdown",
   "id": "81f2f43b",
   "metadata": {},
   "source": [
    "You should be able to refresh your web browser and click on the Items tab to see these newly uploaded items."
   ]
  },
  {
   "cell_type": "markdown",
   "id": "1dedd03e-a4ee-4123-889c-63e6516c2eab",
   "metadata": {},
   "source": [
    "# Collection Management"
   ]
  },
  {
   "cell_type": "markdown",
   "id": "be645ebd",
   "metadata": {},
   "source": [
    "Now that we have ingested our STAC items and their associated assets (images) into our STAC collection, we will provide GeoCatalog with some additional configuration files so we will be able to visualize the items within our collection using GeoCatalog's Explorer.\n",
    "\n",
    "### Collection Render Config\n",
    "First we will download a render configuration file for our collection from the Planetary Computer. This config file can be read by GeoCatalog to render images in different ways within the Explorer. This is due to the fact that STAC items may contain many different assets (images) that can be combined to create entirely new images of a given area that highlight visible or non-visible phenomena. For instance, Sentinel-2 STAC items have over 12 different images from different portions of the electromagnetic spectrum. The below render config instructs GeoCatalog on how to combine these images so it can display images in Natural Color or False Color (Color Infrared)."
   ]
  },
  {
   "cell_type": "code",
   "execution_count": null,
   "id": "b3ddd99a-7399-46b0-b8b7-7d6282790608",
   "metadata": {},
   "outputs": [],
   "source": [
    "# Read Render JSON from Planetary Computer\n",
    "\n",
    "render_json = requests.get(\"https://planetarycomputer.microsoft.com/api/data/v1/mosaic/info?collection={}\".format(pc_collection)).json()\n",
    "render_json['renderOptions']"
   ]
  },
  {
   "cell_type": "markdown",
   "id": "216389fc",
   "metadata": {},
   "source": [
    "After reading this render options config from the Planetary Computer we can enable these render options for our collection by posting this config to the render-options endpoint."
   ]
  },
  {
   "cell_type": "code",
   "execution_count": null,
   "id": "0cc21d54-c012-48eb-9912-896fa7ac2b5e",
   "metadata": {},
   "outputs": [],
   "source": [
    "# Post Render Options Config to GeoCatalog render-options API\n",
    "\n",
    "render_config_endpoint = f\"{geocatalog_url}/api/collections/{collection_id}/config/render-options\"\n",
    "\n",
    "for render_option in render_json['renderOptions']:\n",
    "\n",
    "    # Rename render configs such that they can be stored by GeoCatalog\n",
    "    render_option['id'] = render_option['name'].translate(str.maketrans('', '', string.punctuation)).lower().replace(\" \",\"-\")[:30]\n",
    "\n",
    "    # Post Render Definition\n",
    "    response = requests.post(\n",
    "        render_config_endpoint,\n",
    "        json=render_option,\n",
    "        headers=getBearerToken(),\n",
    "        params={\"api-version\": \"2024-01-31-preview\"}\n",
    "    )"
   ]
  },
  {
   "cell_type": "markdown",
   "id": "e985cfe9",
   "metadata": {},
   "source": [
    "### Mosaic Definitions\n",
    "\n",
    "Similar to the Render Config discussed above, GeoCatalog's Explorer allows us to specify one or more mosaic definitions for our collection. These mosaic definitions enable us to instruct GeoCatalog's Explorer on how to filter which items are displayed within the Explorer. For example, one basic render configuration (shown below) instructs GeoCatalog to simply display the most recent image for any given area. More advanced render configurations allow us to render different views such as the least cloudy image for a given location captured in October 2023."
   ]
  },
  {
   "cell_type": "code",
   "execution_count": null,
   "id": "fdd36ad4-ac97-4879-bb36-45a325543d95",
   "metadata": {},
   "outputs": [],
   "source": [
    "# Post Mosaic Definition\n",
    "\n",
    "mosiacs_config_endpoint = f\"{geocatalog_url}/api/collections/{collection_id}/config/mosaics\"\n",
    "\n",
    "response = requests.post(\n",
    "    mosiacs_config_endpoint,\n",
    "    json={\"id\": \"mos1\",\n",
    "          \"name\": \"Most recent available\",\n",
    "          \"description\": \"Most recent available imagery in this collection\",\n",
    "          \"cql\": []\n",
    "    },\n",
    "    headers=getBearerToken(),\n",
    "    params={\"api-version\": \"2024-01-31-preview\"}\n",
    ")"
   ]
  },
  {
   "cell_type": "markdown",
   "id": "f0fac334",
   "metadata": {},
   "source": [
    "### Open GeoCatalog Explorer\n",
    "\n",
    "Congrats! You have now created a collection, added STAC items and assets, and updated your collection to include the required configuration files so it can be viewed through the GeoCatalog Explorer.\n",
    "\n",
    "**Navigate back to the GeoCatalog Explorer to view your collection!**"
   ]
  },
  {
   "cell_type": "markdown",
   "id": "a2c6df2e-ab59-48d4-8003-b081002b699c",
   "metadata": {},
   "source": [
    "# Query Collection via STAC API\n",
    "\n",
    "Now that you have viewed your collection in the GeoCatalog Explorer we will walk through how to use GeoCatalog's STAC APIs to search for and retrieve STAC items and assets for further analysis.\n",
    "\n",
    "This process starts by posting a search to your GeoCatalog's STAC API. Specifically, you will search for imagery within your collection that falls within the original bounding box you used to extract imagery from the Planetary Computer.\n",
    "\n",
    "Unsurprisingly this query returns all the STAC items you previously placed within your collection."
   ]
  },
  {
   "cell_type": "code",
   "execution_count": null,
   "id": "dc5d1578-1915-4b46-a927-685eec88a300",
   "metadata": {},
   "outputs": [],
   "source": [
    "stac_search_endpoint = f\"{geocatalog_url}/api/search\"\n",
    "\n",
    "response = requests.post(\n",
    "    stac_search_endpoint,\n",
    "    json={\"collections\":[collection_id],\n",
    "          \"bbox\":bbox_aoi\n",
    "    },\n",
    "    headers=getBearerToken(),\n",
    "    params={\"api-version\": \"2024-01-31-preview\", \"sign\": \"true\"}\n",
    ")\n",
    "\n",
    "matching_items = response.json()['features']\n",
    "print(len(matching_items))"
   ]
  },
  {
   "cell_type": "markdown",
   "id": "79cb7a57",
   "metadata": {},
   "source": [
    "In your prior query, you also provided an additional parameter: **sign:true**. This instructs GeoCatalog to return a signed href (item href + SAS token) which allows you to read the given assets from Azure Blob Storage as shown below."
   ]
  },
  {
   "cell_type": "code",
   "execution_count": null,
   "id": "c4738410-cd87-4b7e-97f9-37a7c637f716",
   "metadata": {},
   "outputs": [],
   "source": [
    "asset_href = matching_items[0]['assets']['rendered_preview']['href']\n",
    "print(asset_href)\n",
    "\n",
    "response = requests.get(asset_href)\n",
    "img = Image.open(BytesIO(response.content))\n",
    "img"
   ]
  },
  {
   "cell_type": "markdown",
   "id": "0a147b0b",
   "metadata": {},
   "source": [
    "### Delete Items\n",
    "\n",
    "At this point you have created a GeoCatalog Collection, added items and assets to the collection, and retrieved those items and assets using GeoCatalog's STAC API. For the final phase of this tutorial you are going to remove these items and delete your collection."
   ]
  },
  {
   "cell_type": "code",
   "execution_count": null,
   "id": "4e433a82",
   "metadata": {},
   "outputs": [],
   "source": [
    "# Delete all items\n",
    "\n",
    "for item in matching_items:\n",
    "    response = requests.delete(\n",
    "        f\"{items_endpoint}/{item['id']}\",\n",
    "        headers=getBearerToken(),\n",
    "        params={\"api-version\": \"2024-01-31-preview\"}\n",
    "    )"
   ]
  },
  {
   "cell_type": "markdown",
   "id": "28727e46",
   "metadata": {},
   "source": [
    "You can confirm all of your items were deleted by running the command below. Note it may take a minute or two to fully delete items and their associated assets."
   ]
  },
  {
   "cell_type": "code",
   "execution_count": null,
   "id": "dab170d9",
   "metadata": {},
   "outputs": [],
   "source": [
    "response = requests.post(\n",
    "    stac_search_endpoint,\n",
    "    json={\"collections\":[stac_collection['id']],\n",
    "          \"bbox\": bbox_aoi\n",
    "    },\n",
    "    headers=getBearerToken(),\n",
    "    params={\"api-version\": \"2024-01-31-preview\", \"sign\": \"true\"}\n",
    ")\n",
    "\n",
    "matching_items = response.json()['features']\n",
    "print(len(matching_items))"
   ]
  },
  {
   "cell_type": "markdown",
   "id": "9cdfb7bd",
   "metadata": {},
   "source": [
    "### Delete Collection\n",
    "\n",
    "Now as a final step, you may want to fully delete your collection from your GeoCatalog instance. This can be accomplished by running the code below."
   ]
  },
  {
   "cell_type": "code",
   "execution_count": null,
   "id": "121369b3",
   "metadata": {},
   "outputs": [],
   "source": [
    "response = requests.delete(\n",
    "    f\"{collections_endpoint}/{collection_id}\",\n",
    "    headers=getBearerToken(),\n",
    "    params={\"api-version\": \"2024-01-31-preview\"}\n",
    ")\n",
    "\n",
    "raise_for_status(response)\n",
    "print(f\"STAC Collection deleted: {collection_id}\")"
   ]
  },
  {
   "cell_type": "markdown",
   "id": "35593454-0679-4680-8e62-1fe8df420f21",
   "metadata": {
    "tags": []
   },
   "source": [
    "# Tutorial Complete\n",
    "\n",
    "Congrats! You just created your first collection with GeoCatalog. We hope you found this tutorial helpful! If you have any questions about this tutorial or GeoCatalog please contact spatio-support-team@microsoft.com"
   ]
  }
 ],
 "metadata": {
  "kernelspec": {
   "display_name": "venv",
   "language": "python",
   "name": "python3"
  },
  "language_info": {
   "codemirror_mode": {
    "name": "ipython",
    "version": 3
   },
   "file_extension": ".py",
   "mimetype": "text/x-python",
   "name": "python",
   "nbconvert_exporter": "python",
   "pygments_lexer": "ipython3",
   "version": "3.8.10"
  },
  "microsoft": {
   "ms_spell_check": {
    "ms_spell_check_language": "en"
   }
  },
  "nteract": {
   "version": "nteract-front-end@1.0.0"
  }
 },
 "nbformat": 4,
 "nbformat_minor": 5
}
